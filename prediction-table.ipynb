{
    "cells": [
        {
            "cell_type": "code",
            "execution_count": 2,
            "source": [
                "import sys\n",
                "import Bio\n",
                "from Bio import SeqIO, SeqFeature\n",
                "from Bio.SeqRecord import SeqRecord\n",
                "from Bio.Seq import Seq\n",
                "import os\n",
                "import pandas as pd\n",
                "import subprocess\n",
                "import re\n",
                "from Promoter.DeepTFactor.test_deeptfactor.deeptftest import deeptfactor"
            ],
            "outputs": [],
            "metadata": {}
        },
        {
            "cell_type": "code",
            "execution_count": 3,
            "source": [
                "genome_path = \"/home/justin/Master/Data_collection/Genome/test.fasta\"\n",
                "df = pd.DataFrame(columns = ['Gene loci', 'Bprom', 'DeepTFactor'])"
            ],
            "outputs": [],
            "metadata": {}
        },
        {
            "cell_type": "code",
            "execution_count": 4,
            "source": [
                "def bprom(gene_outpath, bprom_out):\n",
                "    \n",
                "    subprocess.run(\"export TSS_DATA=/home/justin/Master/Attribute_prediction/Promoter/Bprom/bprom_run/data ; /home/justin/Master/Attribute_prediction/Promoter/Bprom/bprom_run/bprom %s %s\" % (gene_outpath, bprom_out), shell=True)"
            ],
            "outputs": [],
            "metadata": {}
        },
        {
            "cell_type": "code",
            "execution_count": 10,
            "source": [
                "#var1 = \"/home/justin/Master/Attribute_prediction/Promoter/Bprom/doc/seq.fa\"\n",
                "#bprom_out = \"/home/justin/Master/Attribute_prediction/Promoter/Bprom/bprom_run/test.txt\"\n",
                "\n",
                "#subprocess.run(\"export TSS_DATA=/home/justin/Master/Attribute_prediction/Promoter/Bprom/bprom_run/data ; /home/justin/Master/Attribute_prediction/Promoter/Bprom/bprom_run/bprom %s %s\" % (gene_outpath, bprom_out), shell=True)"
            ],
            "outputs": [
                {
                    "output_type": "execute_result",
                    "data": {
                        "text/plain": [
                            "CompletedProcess(args='export TSS_DATA=/home/justin/Master/Attribute_prediction/Promoter/Bprom/bprom_run/data ; /home/justin/Master/Attribute_prediction/Promoter/Bprom/bprom_run/bprom /home/justin/Master/Attribute_prediction/Promoter/Bprom/doc/seq.fa /home/justin/Master/Attribute_prediction/Promoter/Bprom/bprom_run/test.txt', returncode=0)"
                        ]
                    },
                    "metadata": {},
                    "execution_count": 10
                }
            ],
            "metadata": {}
        },
        {
            "cell_type": "code",
            "execution_count": 34,
            "source": [
                "# def deeptfactor(protein_outpath, deeptf_out):\n",
                "    \n",
                "#     subprocess.run(\"cd /home/justin/Master/Attribute_prediction/Promoter/DeepTFactor/deeptfactor ; conda run -n deeptfactor python /home/justin/Master/Attribute_prediction/Promoter/DeepTFactor/deeptfactor/tf_running.py -i %s -o %s -g cpu\" % (protein_outpath, deeptf_out), shell=True)"
            ],
            "outputs": [],
            "metadata": {}
        },
        {
            "cell_type": "code",
            "execution_count": 5,
            "source": [
                "#subprocess.run(\"export TSS_DATA=/home/justin/Master/Attribute_prediction/Promoter/Bprom/bprom_run/data ; /home/justin/Master/Attribute_prediction/Promoter/Bprom/bprom_run/bprom /home/justin/Master/Data_collection/Genome/test.fasta /home/justin/Master/Attribute_prediction/Promoter/Bprom/bprom_run/test.txt\", shell=True)\n",
                "#subprocess.run(\"/home/justin/Master/Attribute_prediction/Promoter/Bprom/bprom_run/bprom /home/justin/Master/Data_collection/Genome/test.fasta /home/justin/Master/Attribute_prediction/Promoter/Bprom/bprom_run/test.txt\", shell=True)\n",
                "\n",
                "#subprocess.run(\"cd /home/justin/Master/Attribute_prediction/Promoter/DeepTFactor/deeptfactor ; conda run -n deeptfactor python /home/justin/Master/Attribute_prediction/Promoter/DeepTFactor/deeptfactor/tf_running.py -i /home/justin/Master/Data_collection/Genome/NC_006350.1_full_CDS_translation.fasta -o /home/justin/Master/Attribute_prediction/Promoter/DeepTFactor/deeptfactor/result -g cpu\", shell=True)"
            ],
            "outputs": [
                {
                    "output_type": "execute_result",
                    "data": {
                        "text/plain": [
                            "CompletedProcess(args='cd /home/justin/Master/Attribute_prediction/Promoter/DeepTFactor/deeptfactor ; conda run -n deeptfactor python /home/justin/Master/Attribute_prediction/Promoter/DeepTFactor/deeptfactor/tf_running.py -i /home/justin/Master/Data_collection/Genome/NC_006350.1_full_CDS_translation.fasta -o /home/justin/Master/Attribute_prediction/Promoter/DeepTFactor/deeptfactor/result -g cpu', returncode=0)"
                        ]
                    },
                    "metadata": {},
                    "execution_count": 5
                }
            ],
            "metadata": {}
        },
        {
            "cell_type": "code",
            "execution_count": null,
            "source": [
                "##previous test code\n",
                "#for gene in SeqIO.parse(genome_path,\"fasta\"):\n",
                "#    print(gene.id)\n",
                "#    print(gene.seq)\n",
                "#     SeqIO.write(gene, \"generecord.fasta\", \"fasta\")\n",
                "#     bprom()\n",
                "#     deeptfactor()\n",
                "#     bprom_result = open(\"/home/justin/Master/Attribute_prediction/Promoter/Bprom/bprom_run/test.txt\").read()\n",
                "#     df = df.append({'Gene loci' : gene.id, 'Sequence' : str(gene.seq), 'Bprom' : bprom_result}, ignore_index = True)\n",
                "\n",
                "# print(df)"
            ],
            "outputs": [],
            "metadata": {}
        },
        {
            "cell_type": "code",
            "execution_count": 5,
            "source": [
                "# declaring gb filepath, parsed file output path, tool output path\n",
                "gb_path = \"/home/justin/Master/Data_collection/Genome/NC_006350.1_full.gb\"\n",
                "gene_outpath = \"/home/justin/Master/Attribute_prediction/generecord.fasta\"\n",
                "protein_outpath = \"/home/justin/Master/Attribute_prediction/proteinrecord.fasta\"\n",
                "bprom_out = \"/home/justin/Master/Attribute_prediction/Promoter/Bprom/bprom_run/test.txt\"\n",
                "# deeptf_out = \"/home/justin/Master/Attribute_prediction/Promoter/DeepTFactor/deeptfactor/result/\"\n",
                "# deeptf_out_results = \"/home/justin/Master/Attribute_prediction/Promoter/DeepTFactor/deeptfactor/result/prediction_result.txt\""
            ],
            "outputs": [],
            "metadata": {}
        },
        {
            "cell_type": "code",
            "execution_count": 12,
            "source": [
                "#parsing\n",
                "seq_record = next(SeqIO.parse(open(gb_path), \"gb\")) #not sure if next() is neccesary here yet\n",
                "max_length = len(seq_record) #for reverse strands\n",
                "\n",
                "#retrieve nucleotide and protein sequences from each CDS\n",
                "for feature in seq_record.features:\n",
                "    if feature.type == \"CDS\":\n",
                "        #nucleotide sequence\n",
                "        #obtain gene coordinates\n",
                "        mystart = feature.location.start.position\n",
                "        myend = feature.location.end.position \n",
                "\n",
                "        #obtain gene locus\n",
                "        locus_key = 'old_locus_tag'\n",
                "\n",
                "        if locus_key in feature.qualifiers:\n",
                "            locus = ''.join(feature.qualifiers[locus_key])\n",
                "        else:\n",
                "            locus = ''.join(feature.qualifiers['locus_tag'])\n",
                "\n",
                "        #obtain gene strand info, reverse complement the antisense strand\n",
                "        if feature.strand == -1:\n",
                "            this_start = mystart\n",
                "            this_end = myend\n",
                "            if this_end + 150 <= max_length:\n",
                "                this_end = myend + 150 #append upstream gene\n",
                "            # else:\n",
                "            #     this_end = myend  \n",
                "            gene_seq_upstream = seq_record.seq[this_start:this_end]\n",
                "            dna_seq = gene_seq_upstream.reverse_complement()\n",
                "        else:\n",
                "            this_start = mystart\n",
                "            this_end = myend\n",
                "            if this_start - 150 >= 0:\n",
                "                this_start = mystart - 150 #append upstream gene\n",
                "            # else:\n",
                "            #     this_start = mystart\n",
                "            gene_seq_upstream = seq_record.seq[this_start:this_end]\n",
                "            dna_seq = gene_seq_upstream \n",
                "        \n",
                "        #gene sequence file creation and BPROM\n",
                "        gene_seq_upstream = seq_record.seq[this_start:myend]\n",
                "        geneseq = SeqRecord(dna_seq, id=\"%s\" % (locus))\n",
                "        SeqIO.write(geneseq, open(gene_outpath, \"w\"), \"fasta\")   \n",
                "\n",
                "        bprom(gene_outpath = gene_outpath,bprom_out = bprom_out)\n",
                "     \n",
                "        ######protein sequence######################################################\n",
                "        translation_key = 'translation'\n",
                "\n",
                "        if translation_key in feature.qualifiers:\n",
                "            translated_seq = ''.join(feature.qualifiers['translation'])\n",
                "        # else:               #genes without translation info are pseudogenes, we will not translate it\n",
                "            # trans_gene_seq = seq_record.seq[mystart:myend]\n",
                "            # translated_seq = trans_gene_seq.translate(table=11, to_stop=True)\n",
                "                \n",
                "            if len(translated_seq) > 1000:\n",
                "                ##slicing seq >1000 nt to 1000 nt in a list. If TF is found break from loop\n",
                "                translated_seq_list = [translated_seq[i:i+1000] for i in range(len(translated_seq)-999)]\n",
                "                for seq in translated_seq_list:\n",
                "                    deeptf_result = deeptfactor(seq, locus)\n",
                "\n",
                "                    if deeptf_result == 'True':\n",
                "                        break\n",
                "            else:\n",
                "                deeptf_result = deeptfactor(translated_seq, locus)\n",
                "        else:\n",
                "            deeptf_result = 'pseudogene'\n",
                "\n",
                "        # [Deprecated] protein sequence file creation and Deeptfactor\n",
                "        # proteinseq = SeqRecord(Seq(translated_seq,), id=\"%s\" % (locus), description = '')\n",
                "        # SeqIO.write(proteinseq, open(protein_outpath, \"w\"), \"fasta\") \n",
                "\n",
                "        # deeptf_result = deeptfactor(translated_seq, locus)\n",
                "\n",
                "        #append results in dataframe\n",
                "        bprom_result_list = list(open(bprom_out).read().replace('  ','').split(\"\\n\"))\n",
                "        bprom_result = bprom_result_list[3]\n",
                "        #########need a method to parse TF binding site is available\n",
                "\n",
                "        # deeptf_result_list = list(open(deeptf_out_results).read().replace('\\n','').split(\"\\t\"))\n",
                "        # deeptf_result = deeptf_result_list[3]\n",
                "        \n",
                "        df = df.append({'Gene loci' : locus, 'Bprom' : bprom_result, 'DeepTFactor' : deeptf_result}, ignore_index = True)\n",
                "\n",
                "print(df)"
            ],
            "outputs": [
                {
                    "output_type": "stream",
                    "name": "stdout",
                    "text": [
                        "        Gene loci                              Bprom DeepTFactor\n",
                        "0        BPSL0001   Number of predicted promoters -1       False\n",
                        "1        BPSL0002   Number of predicted promoters -2       False\n",
                        "2        BPSL0003   Number of predicted promoters -1       False\n",
                        "3        BPSL0004   Number of predicted promoters -1       False\n",
                        "4        BPSL0005   Number of predicted promoters -0       False\n",
                        "...           ...                                ...         ...\n",
                        "5565  BPS_RS18510   Number of predicted promoters -1       False\n",
                        "5566     BPSL3429   Number of predicted promoters -2       False\n",
                        "5567     BPSL3430   Number of predicted promoters -0       False\n",
                        "5568     BPSL3431   Number of predicted promoters -1        True\n",
                        "5569  BPS_RS18530   Number of predicted promoters -0       False\n",
                        "\n",
                        "[5570 rows x 3 columns]\n"
                    ]
                }
            ],
            "metadata": {}
        },
        {
            "cell_type": "code",
            "execution_count": 13,
            "source": [
                "df.to_csv('df.csv', index = False)"
            ],
            "outputs": [],
            "metadata": {}
        },
        {
            "cell_type": "code",
            "execution_count": 38,
            "source": [
                "print(proteinseq)"
            ],
            "outputs": [
                {
                    "output_type": "stream",
                    "name": "stdout",
                    "text": [
                        "ID: BPSL0043\n",
                        "Name: <unknown name>\n",
                        "Number of features: 0\n",
                        "Seq('MQLHFESDLDYQLEAIEAVCDLFRGQEACRAEFSVTAQAARRRAGPQISLGMAE...DAA')\n"
                    ]
                }
            ],
            "metadata": {}
        },
        {
            "cell_type": "code",
            "execution_count": 30,
            "source": [
                "deeptfactor(protein_outpath = protein_outpath, deeptf_out = deeptf_out)"
            ],
            "outputs": [],
            "metadata": {}
        },
        {
            "cell_type": "code",
            "execution_count": 15,
            "source": [
                "subprocess.run(\"cd /home/justin/Master/Attribute_prediction/Promoter/DeepTFactor/deeptfactor ; conda run -n deeptfactor python /home/justin/Master/Attribute_prediction/Promoter/DeepTFactor/deeptfactor/tf_running.py -i /home/justin/Master/Attribute_prediction/proteinrecord.fasta -o /home/justin/Master/Attribute_prediction/Promoter/DeepTFactor/deeptfactor/result -g cpu\", shell=True)"
            ],
            "outputs": [
                {
                    "output_type": "execute_result",
                    "data": {
                        "text/plain": [
                            "CompletedProcess(args='cd /home/justin/Master/Attribute_prediction/Promoter/DeepTFactor/deeptfactor ; conda run -n deeptfactor python /home/justin/Master/Attribute_prediction/Promoter/DeepTFactor/deeptfactor/tf_running.py -i /home/justin/Master/Attribute_prediction/proteinrecord.fasta -o /home/justin/Master/Attribute_prediction/Promoter/DeepTFactor/deeptfactor/result -g cpu', returncode=0)"
                        ]
                    },
                    "metadata": {},
                    "execution_count": 15
                }
            ],
            "metadata": {}
        },
        {
            "cell_type": "code",
            "execution_count": 11,
            "source": [
                "max_len = -1\n",
                "seq_record = next(SeqIO.parse(open(gb_path), \"gb\")) #not sure if next() is neccesary here yet\n",
                "locus_list = []\n",
                "for feature in seq_record.features:\n",
                "    if feature.type == \"CDS\":\n",
                "        translation_key = 'translation'\n",
                "        locus_key = 'old_locus_tag'\n",
                "\n",
                "        if locus_key in feature.qualifiers:\n",
                "            locus = ''.join(feature.qualifiers[locus_key])\n",
                "        else:\n",
                "            locus = ''.join(feature.qualifiers['locus_tag'])\n",
                "\n",
                "        translation_key = 'translation'\n",
                "\n",
                "        if translation_key not in feature.qualifiers:\n",
                "            locus_list.append(locus)\n",
                "            if 'pseudo' not in feature.qualifiers:\n",
                "                print (locus)\n",
                "\n",
                "        \n",
                "\n",
                "        # if translation_key in feature.qualifiers:\n",
                "        #     translated_seq = ''.join(feature.qualifiers['translation'])\n",
                "        #     print (locus)\n",
                "        #     if len(translated_seq) > max_len:\n",
                "        #         max_len = len(translated_seq)\n",
                "        #         max_locus = locus\n",
                "\n",
                "# print(max_locus, max_len)\n"
            ],
            "outputs": [],
            "metadata": {}
        },
        {
            "cell_type": "code",
            "execution_count": 2,
            "source": [
                "from Promoter.DeepTFactor.test_deeptfactor.deeptftest import deeptfactor"
            ],
            "outputs": [],
            "metadata": {}
        },
        {
            "cell_type": "code",
            "execution_count": 17,
            "source": [
                "s = 'MTAFGNFVALCTHRAAANGDALAYHYLSPHGEDRALSFGALDRAARRVAARLAASGAPGDRVLIVCPQSLDYVSAFFGCLYGGFIAVPAYAPRNNHHFARLSKIIEDARPRVVMLCRKQYAAVHAFIERNPPLREVELVVVDELDDVEPGGCRPHAAARDDVAFLQYTSGSTGQAKGIMVSHGNLLANEEMIRTTCGNTPDSRAVFWLPLFHDMGLMTLLQGVYVGYPTYLMAPMDFLANPLRWLQAVSRVRATLTVAPNFAWQLCVEKIPPEQLDGLDLSSVTAAVNGSEPISVRTLDGFVARFGACGFRREAFRPSYGLAEATLLVTGSSGHAPDGVIEETMVSSAGRRTVFQRVGCGRPAAGCEVAIVERDTRAVRRDGELGEIWVKGPHVAQGYWNNPEQTAQTFGNRTADGAGPYLATGDLGFLHDGALVVTGRCKDVIILRGDNYYPSDLEASATAAHPALVPDGAAAFTLAGDEAGPDAAAAQALAVVAEVRRNTPPAQFAQIAAAIVERISAGYGLALERLVLIKERSIPKTSSGKVQRGAVRAELDAGQLKTLHDVRPGETGARAAAQPFAELHAMLAAARGDGLARIVDGFVLSQFAELMKTPFYALDLTRSVAALGLDSLALVNVQHRLGAALKIDVPAQLLFGDETLGELAAQIGALARRAWTDAPCAAASTDAAESADSADSAAAPQVPAVSDEAARAARNSPEAPAPALPAQADTDTGSDSTSPSTSTSTSPSAAAGWDATPGQAALWLIQQAARESHDYNEGFVAAVDGAFDPELFMLALARLAARRDALRVRFAEVDGRPVARDAHALEQSTLRCADDAAALQAARDALAAPFDLSRATWRAVLAKGPNATYVALALHHAIVDMWSFDILIAELKQLYDALARGADASLGAARGYREFAAWQHGWLNSPQATGHAAYWREQLRGMPARSAFPSTPIATPASGARAHRFAIDARTMGAVRALARRHGLTAYHVLFAAGALLLGRYAGQRDVVVGMPAHGRPRAADADTIGYFANVLPIRVALDDRRALADWLHDVKGAIVGGLLHQALPLPVLTEALAAERGAPDGALVQTVISLLAPSAARAVEAGADAGDRLSPFVLGEAGGRLALGDATLTSCESRHDRAPFDVAFTLIDDGGELAASIGYRADRHSAAMIERLAANYRCVLEALAHGACARLGDVPHVSAAEHALLRRSLTHRARAHAPAAGADGDSVVDRFRRTAARQPDALALAAAGRALTYGELARATDALGHMLVEHGVTPGDRVALAVGERAMQTRVALAILKVGAAYVPVDLANPPERLAYLLDDCGAKLVLTTRDDRPRLPATGANVVCADALDDAAAARHAGRPLPRVAIAAGQPAYCIYTSGSTGQPKGVLVTHGGLANLVDWHVDAFALDAGARASMLAGPGFDAAVWEIWPALCAGASLAEPAPDARHDVAELARWLDAHAISHCFMPTPLAEAFIAAAARPRALRFLLTGGDQLKARGRAGDGFQLINAYGPTENTVVTTSGAVEPASESAQGPAGPARLAPLPDIGAPIRGQALHILDAQLRPTPLGVSGELYVSGAGLALGYLNRPALTAERFVPAPDADAPDVPTPGARLYATGDLVRLDENGRLHFVGRADDQVQIRGFRVEPGEVEAVLATHPGVAQCKVIAFEREPSGKLLAAYVAGDASLTEAALRAFVDSRLPSYMRPAGFVIADALPLDANGKISRRALPPPTFAAADEAAFADPLEQAVANVYQEALGCGPVRADDDFFALGGHSLLVARVAAGIRARLGITVSIADLFAHSKVAALAAHLRGAAAAPIPPAVRLTRAGRPARVPLSPAQQRMWLLQALEPDSTDYHVCGALRVHGALDLERLAAALTQTVARHEALRTCFPRQDGQACQVVLPPAAVAVERLSVDIDADRASPAAHDAAVQARIDAWEAQRFDLETGPLLKAAYLPLAADDGYLLLNLHHIIADGRSIAILLDDIAARYADLREAGAGADAPGAPEAPHYADYCVWSRSEAAREREAASLPFWRTQLAGAWPAGLAALRPARTAAAQHAPGAARGDEIGDTLPADLARNVRAVAARWGVTESTVYLAAYGLLVAKLGGDADVLIGIAYAGRDLPDTADMIGMFVNVLPIRVALGDADAFEQQVRGWRDACVAAFRHAHVSYERMVELAGGDRRDGPGELVKTMFDFEEPGPPPRALGDARLSVERRADRSAKFDLTLRCRPDALGRMRIALNFRRAALSVERARGLLDAYRCVLEQVLQAPELTPARTRLVDAAQADALLRLGGGPAAPWAGAPVHRQIERIAHADPQALALAGEDGARIGYAVLNATANRLARRLRTLGVAPRDAVALCMRPGPSFALAALAVLKLGAAYVPIDPRYPDPRKLRIVADSGARLVVAEPDAAPAQAPDAVAPVWWDALAAQAATLPDSDLDIETAPDDLAYIVYTSGTTGAPKGVEIPHRGLANLCAWHARAYGLHDAPQSIRASQTAGIGFDAAVWEIWPYLCTGASVWFAPDAARQSSRHLEDWLSTRRITHCFAATPLAHAVLADGWLGSPSLAYLLTGGERLTRRPPAGARYRLFNHYGPSENSVVATAGEVAQGAGEPPSIGAALDNVRVYVLDRHGQLAPRGVPGELYIGGASLMRGYRSNDALTHARLVADPFAGVPDARMYRTGDLVCWNDAGELDYVGRADDQVKIRGHRIEPSEILHAVKSHAGVYDAAVTTLDHPQAGPQLVAYVVFDPAHGAGAPDRAARLKRAIAAQLPAFMVPTHVVELDALPLTSNGKIDYAALPAPRAANADARRTPLRTETERALAAIWSALLGEPVDDAHANFFALGGHSLLAARAVALIETRMAREIALKDFFAADDLAALARALDAASAHAGIPVAPAGAAIPLSPSQQRLWLVQAFNRGSVDYNVVGALRVSGALDAARLRAAVAAAVERHEILRTRIVDTEDGPRQRAPGADAREADLLQMNLTGNPPSMQDDFVRDYLARLAVEPFDLATGPLFKLVLIQTAADSGVLAASFHHIVVDAWSANVFLRDLLECYAAQCAQRAPRLAPLPVQYRDYSVWAQRELARSEDALRAFWRDYLHALPTHAPLPVAHHRAGAAPRDGRRLSIAWPADTLARLKALARREQASLYEVLIAAYFAWLHRLSGQSDLVVGMPYNDRGRAELENLVGFFVNVLPVRARVRPHLSYAALLRQVRDDLRRVYRHHALPFDRIAEQCANASGSLFQTMFDLDAQPLAHDARTADGDGLRAELLDGAPQAPIADLSVTLRETAQGLTLSCVYAAERFDAPAVERWLENFRALLDSVAADADQAVGRLAFLTANEQAIVERLRNPASVDHRGVLAQAGGANGPALLHRLVDHWATAAPANPALVSPARTLSFAALARSTDALAAVLREEGVRPGMVVGVEAAHSVDAVLGIIATIKAGAICLPVDTRLPPERLDAMIADSGCRHVLASAGAPLGRFDGKRLALDGAARHAGDAPAPAAEATPDHGVFLTYTSGTTGAPKASVLHHRGIVNYIGTVIERFGYTCGDRAMLFAPLTFDASLEEIFAPLCAGASLYIGDENVKRSVPALVDACRAQRISVLTLPTAYWRVLGEHLAANGGAAGLGAVRLVSIGGEKVTLEAIRQWHRATAGRIALYNIYGPSECSIGSIVDRIDVARALEDGEVYLHRPVANAHLHVLDACLNPVPADMPGELYIGGVGVAHGYHGRPALTAQRFVADPFAAAPGARLYRSGDRVRYDLEGRLHYLGRTDFQVKVDGIRVEPEEIQAVLEAHPDVAQAVVLAGEARHARNPLIGYVILEKAPARARAATGTDGAAFVDYLRARLPAHMVPAQVVVMDAFPLTTNQKVDRRALLLAANDAVVAAPALSPTETALLALWRELLGNDAFGVDDNFFSLGGSSLLAIRINSRVEAMYAVRLPVAALFDCPTVRALAVLVERLRASRDAAAPDQAGPPIERIDARATPLSGAQYRLWYLHQRDPDSTAYHLPDLLKLAGPLDAAALRTALAHTLDEHESLRTTFVVEGETPLQVIAARAQPRLDGHDLSALAPDARDAALDALVRRALDTPFDLARGPLATFALVTLAPDEHLLLSVFHHIVVDGWSVGLFQRSLARHYNAARGGRAAEPAADASARALQYRDFAAWHRRVLDGGERERQLDYWRAQLDGTLPVLQLPTDFKRPPQASGGGEAFSFAFDDALAARLQAVAQRHHVSMFMLLLAAYAALLARYARQDDLLIGVPALGRTRPEFESVVGFFVNTLVIRVRANPSTTFASLLEHVRATCLDAFDHQDVALEEIAADVNARRERDGTGLFQTMFSYQEADALEPAAFDGLVATSVEPEHRSAKFDLYLATWTHDGRLHGGFEFSTDLFEAATVRRMADHYRNLLAGVAARPDGALHALPLLGDDERAYQVRALNQASRPLPDGVYVRDLFARQAALHPARVAASCGEAALTYGELDRASDRVARNLLAAGARGEDLVGLLIGRNLDYLIAMLGVLKAGVAFTPMNPDDPAHKLDRIAELGDVRYVVHDAASAGRAQALTARATRLALDALSREPAAAPEFLPLTPASLAYVIYTSGSTGLPKGAMIEQRGMLNHLLAKIDDLAIGEDDVVAEMAVTTFDVSIWQYLVALLVGGRTAVMPGDAAWDPQQLFAQLDADGVTVFESVPSHMKILIDELEARPGRHRLGRVRVYVSNAEALTPALCARWFACAPHVPVVNTYGATECSDDTSHLWIREPLSGALPYVPIQGTLPNLTTYLLDERLEPVPIGVTGEVHIGGVGVGRGYLGDPARTARAFVPDPFSPRPGRRLYKTGDLARYRPDGTLEFLGREDFQVKIRGQRVEIGEVERAIGDHDNVRQAVVVAARDGKDRLYLLGYVIPHRHPAPTVPELRAFVAGRVASYMVPASFVLMDQFPLNANGKVDRKRLPKPADQDIFRRNEHVAPATQTEARLAELWRELLDVDEIGALDSFFELGGHSLLAAELTLRMRTLFGVALPLRTLFQSPQLRDVAAALDTLRTSADAAGPARVERLPARAHYELAPCQVPEWYAYQMDPSSPVYNISVADLFFTGKLNRDAFIAAWRAILERHDVLRVKFDYRDGAPIQIVDPAIDIRAENVFLDRTTLAGADAIDEANRLGARFGTAPFDFANGPLFRLHVASYAGDFHQLIFVVHHIIWDETSLINLMLELSELYNAHAAGRAANVPALEVGYFDYVQWTHQQLRCGAFDEHKRYWLDMYRTLPPPLDLPTDRARPNLMSYRGDALRTWLPRGIVRKIEAYLKQHDVTLFMLQLAILDCYLSRISGQRDFVIGCPIAGRADERLKPLLGLFATPMPIRCTIGENMTFGELLAQVSQRTLEAFEHYHYPSNQVIEQLQHEKDLSRPKLFSIMYGVQNNKTDLMGRLKFDGLTLSLENVVDTENKSSRFDLNFVVDQFGSDIMFSCIYNVDLFDASTIEQMLENMTALMDQVLDDPDQPLSRYTMVGANGNPPAALHGPRVDYDEAATMHALMAEQAARTPAATALVVEGVAYDYETLNRQANRLAHYLLSLGVTSGENVAVMLRPSFEMVVALYAILKVGGAFVPIGPQYPQKRVDAILRHAHARWALTHSGLRRAFAAFPYDVVCVDDVMGALGGYSDRNPPSVDPRQLAYILHTSGSTGTPKGIEIEHRGVVSMLADLQRTYCLDAHDRVLFHTPFTFDVFIQDVFWPLAYGARVVVMGDDALKSAHGLADVIERERVTLAQFVPAMLETLVDARERGEIAGLASLRQVICGAAALYRGLAERFARAFGCRLANHYGPTEVTVDASRFDCAEPYAGDTVPIGRPVGNASLHVLDAHLQPVPRGVIGEICVASPGLARRYLNDDEGTARAFVEIVVDGAPLRLYRTGDLGHCDRTGVVYFHGRADKQLKIRGNRVELDEIGSVLRSHPAIAAAALAYREDAAHGGRLVAYIEQTARDHQVPAEPGDAPLYGFTLEQRPELAAAAFALPPGADEAARELARRFPACQLVVTDRASTVTAFCQAVPLRIDATAQAGAPALERDAALRLAFAQQDDGVEPNALYVLDDAATGAPATSPAARAALLAPWRRLAAAFGLARLLRASAGGKPAEPADAGGQGAPAHAYLTRDAVRAWLRQSLPDYMIPDQVHFLPAIALTDSGKVDARNLPVIEVDEQPGRQAASTALQRELADLWERLLQVGQIGVTDDFFVLGGQSLKAIEMVAEVGRRYGVKIQLRQFYENPTIRYLETLLTERA'\n",
                "list_1 = [s[i:i+1000] for i in range(len(s)-999)]\n",
                "len (list_1)\n",
                "\n"
            ],
            "outputs": [
                {
                    "output_type": "execute_result",
                    "data": {
                        "text/plain": [
                            "5275"
                        ]
                    },
                    "metadata": {},
                    "execution_count": 17
                }
            ],
            "metadata": {}
        },
        {
            "cell_type": "code",
            "execution_count": 6,
            "source": [
                "foo = deeptfactor(\"HKTLQITEQHFRRLYAGVPFDYFVYDSAKLGEVRSFASKSIVQIMIVTVAAINKKDVNTLYKDSEHTGGEKPIDLIRATHPIVIVDEPQSVDGGLEGRGKEALEAMRPLCTLRYSATHADKYQMLYRLDAIDAYERKLVKQIEIASATVEDAHNKPFVRVISIGSRRGAIAARVELDVATAAGDVERQTVSVSDGDDLERVARRAVYANFSIGEIHAARGAEYLVLRYPGGDAFLSVGDAYGDVDTHAIQREMIRRTIREHLDKELRLTPLGVKVLSLFFVDAVDKYRKYDRHGQPFKGDYALLFEDEYRRAAKLPEYRALFDGVDAGLAAEAVHDGYFSIDKKGGWTDTSDRSAGSRENAERAYGLIMKDKERLLSFDTPLKFIFSHSALKEGWDNPNVFQICTLRDIHSERERRQTIGRGLRLAVNQRGERVRGFDVNTLTVIAGESYEQFAENLQKEIEADTGIRFGIVETHQFAALPVPADDGSVQPLGVERSAALWMHLRDAGYLDARGRVQDTLRAALKLRALPLPDEFDALRALIVDMLRKLAGRLDVRNADERRHIALRRDAHGKAVYLGDAFRALWDRIRHRTTYRVNFDNARLIERCVAALKAAPAVTRARLQWRKADIAIDASGVEATETEDAGAIAIDEGEVELPDLLTELQDRTQLTRRTIAKVLIESGRLDEFPLNPQRFIALVAAALERCKRDALVDGIEYRLLGEAQVHALSLFESEPLTGYLSSMRRGAAKSIHEDVPCDTPAERAFVESLEQDDAVRLYAKLPGWFKIPTPLGSYSPDWAVLIAEGDGPRLYFVVESKSGVADGDLRADERRRVQCGAAHFRALEAVADNPARYVRARRADDLPTAAANARDAA\", 'test')\n",
                "\n",
                "print(foo)"
            ],
            "outputs": [
                {
                    "output_type": "stream",
                    "name": "stdout",
                    "text": [
                        "False\n"
                    ]
                },
                {
                    "output_type": "stream",
                    "name": "stderr",
                    "text": [
                        "/home/justin/anaconda3/lib/python3.8/site-packages/torch/nn/functional.py:718: UserWarning: Named tensors and all their associated APIs are an experimental feature and subject to change. Please do not use them for anything important until they are released as stable. (Triggered internally at  /opt/conda/conda-bld/pytorch_1623448216815/work/c10/core/TensorImpl.h:1156.)\n",
                        "  return torch.max_pool2d(input, kernel_size, stride, padding, dilation, ceil_mode)\n"
                    ]
                }
            ],
            "metadata": {}
        },
        {
            "cell_type": "code",
            "execution_count": 19,
            "source": [
                "for seq in list_1:\n",
                "    foo = deeptfactor(seq, 'test')\n",
                "\n",
                "    if foo == 'True':\n",
                "        break\n",
                "\n",
                "print(foo)"
            ],
            "outputs": [
                {
                    "output_type": "stream",
                    "name": "stdout",
                    "text": [
                        "False\n"
                    ]
                }
            ],
            "metadata": {}
        },
        {
            "cell_type": "code",
            "execution_count": null,
            "source": [],
            "outputs": [],
            "metadata": {}
        }
    ],
    "metadata": {
        "orig_nbformat": 4,
        "language_info": {
            "name": "python",
            "version": "3.8.8",
            "mimetype": "text/x-python",
            "codemirror_mode": {
                "name": "ipython",
                "version": 3
            },
            "pygments_lexer": "ipython3",
            "nbconvert_exporter": "python",
            "file_extension": ".py"
        },
        "kernelspec": {
            "name": "python3",
            "display_name": "Python 3.8.8 64-bit ('base': conda)"
        },
        "interpreter": {
            "hash": "886c326b08303ce9c5b6ac82cb76e4814e75bf7fff6970eca22c6b179753b657"
        }
    },
    "nbformat": 4,
    "nbformat_minor": 2
}